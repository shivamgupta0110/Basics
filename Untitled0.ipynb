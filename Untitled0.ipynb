{
  "nbformat": 4,
  "nbformat_minor": 0,
  "metadata": {
    "colab": {
      "name": "Untitled0.ipynb",
      "provenance": [],
      "authorship_tag": "ABX9TyMHwxmWpA8qwlaAy4nZIvqh",
      "include_colab_link": true
    },
    "kernelspec": {
      "name": "python3",
      "display_name": "Python 3"
    }
  },
  "cells": [
    {
      "cell_type": "markdown",
      "metadata": {
        "id": "view-in-github",
        "colab_type": "text"
      },
      "source": [
        "<a href=\"https://colab.research.google.com/github/shivamgupta0110/Basics/blob/master/Untitled0.ipynb\" target=\"_parent\"><img src=\"https://colab.research.google.com/assets/colab-badge.svg\" alt=\"Open In Colab\"/></a>"
      ]
    },
    {
      "cell_type": "code",
      "metadata": {
        "id": "jdiAHZWPhqS3"
      },
      "source": [
        "import pandas as pd"
      ],
      "execution_count": 1,
      "outputs": []
    },
    {
      "cell_type": "code",
      "metadata": {
        "id": "Gs_fBqhrhs2r"
      },
      "source": [
        "test_df = pd.read_csv('test_data.csv')\n",
        "train_df = pd.read_csv('train_data.csv')\n",
        "validate_df = pd.read_csv('test_data_hidden.csv')"
      ],
      "execution_count": 2,
      "outputs": []
    },
    {
      "cell_type": "code",
      "metadata": {
        "colab": {
          "base_uri": "https://localhost:8080/",
          "height": 442
        },
        "id": "CTpWFyNSiWsP",
        "outputId": "e4ca653b-ab86-4f21-8d17-9ef9807693a4"
      },
      "source": [
        "test_df.head()"
      ],
      "execution_count": 3,
      "outputs": [
        {
          "output_type": "execute_result",
          "data": {
            "text/html": [
              "<div>\n",
              "<style scoped>\n",
              "    .dataframe tbody tr th:only-of-type {\n",
              "        vertical-align: middle;\n",
              "    }\n",
              "\n",
              "    .dataframe tbody tr th {\n",
              "        vertical-align: top;\n",
              "    }\n",
              "\n",
              "    .dataframe thead th {\n",
              "        text-align: right;\n",
              "    }\n",
              "</style>\n",
              "<table border=\"1\" class=\"dataframe\">\n",
              "  <thead>\n",
              "    <tr style=\"text-align: right;\">\n",
              "      <th></th>\n",
              "      <th>name</th>\n",
              "      <th>brand</th>\n",
              "      <th>categories</th>\n",
              "      <th>primaryCategories</th>\n",
              "      <th>reviews.date</th>\n",
              "      <th>reviews.text</th>\n",
              "      <th>reviews.title</th>\n",
              "    </tr>\n",
              "  </thead>\n",
              "  <tbody>\n",
              "    <tr>\n",
              "      <th>0</th>\n",
              "      <td>Fire Tablet, 7 Display, Wi-Fi, 16 GB - Include...</td>\n",
              "      <td>Amazon</td>\n",
              "      <td>Fire Tablets,Computers/Tablets &amp; Networking,Ta...</td>\n",
              "      <td>Electronics</td>\n",
              "      <td>2016-05-23T00:00:00.000Z</td>\n",
              "      <td>Amazon kindle fire has a lot of free app and c...</td>\n",
              "      <td>very handy device</td>\n",
              "    </tr>\n",
              "    <tr>\n",
              "      <th>1</th>\n",
              "      <td>Amazon Echo Show Alexa-enabled Bluetooth Speak...</td>\n",
              "      <td>Amazon</td>\n",
              "      <td>Computers,Amazon Echo,Virtual Assistant Speake...</td>\n",
              "      <td>Electronics,Hardware</td>\n",
              "      <td>2018-01-02T00:00:00.000Z</td>\n",
              "      <td>The Echo Show is a great addition to the Amazo...</td>\n",
              "      <td>Another winner from Amazon</td>\n",
              "    </tr>\n",
              "    <tr>\n",
              "      <th>2</th>\n",
              "      <td>All-New Fire HD 8 Tablet, 8\" HD Display, Wi-Fi...</td>\n",
              "      <td>Amazon</td>\n",
              "      <td>Electronics,iPad &amp; Tablets,All Tablets,Fire Ta...</td>\n",
              "      <td>Electronics</td>\n",
              "      <td>2017-01-02T00:00:00.000Z</td>\n",
              "      <td>Great value from Best Buy. Bought at Christmas...</td>\n",
              "      <td>simple to use and reliable so far</td>\n",
              "    </tr>\n",
              "    <tr>\n",
              "      <th>3</th>\n",
              "      <td>Brand New Amazon Kindle Fire 16gb 7\" Ips Displ...</td>\n",
              "      <td>Amazon</td>\n",
              "      <td>Computers/Tablets &amp; Networking,Tablets &amp; eBook...</td>\n",
              "      <td>Electronics</td>\n",
              "      <td>2017-03-25T00:00:00.000Z</td>\n",
              "      <td>I use mine for email, Facebook ,games and to g...</td>\n",
              "      <td>Love it!!!</td>\n",
              "    </tr>\n",
              "    <tr>\n",
              "      <th>4</th>\n",
              "      <td>Amazon Echo Show Alexa-enabled Bluetooth Speak...</td>\n",
              "      <td>Amazon</td>\n",
              "      <td>Computers,Amazon Echo,Virtual Assistant Speake...</td>\n",
              "      <td>Electronics,Hardware</td>\n",
              "      <td>2017-11-15T00:00:00.000Z</td>\n",
              "      <td>This is a fantastic item &amp; the person I bought...</td>\n",
              "      <td>Fantastic!</td>\n",
              "    </tr>\n",
              "  </tbody>\n",
              "</table>\n",
              "</div>"
            ],
            "text/plain": [
              "                                                name  ...                      reviews.title\n",
              "0  Fire Tablet, 7 Display, Wi-Fi, 16 GB - Include...  ...                  very handy device\n",
              "1  Amazon Echo Show Alexa-enabled Bluetooth Speak...  ...         Another winner from Amazon\n",
              "2  All-New Fire HD 8 Tablet, 8\" HD Display, Wi-Fi...  ...  simple to use and reliable so far\n",
              "3  Brand New Amazon Kindle Fire 16gb 7\" Ips Displ...  ...                         Love it!!!\n",
              "4  Amazon Echo Show Alexa-enabled Bluetooth Speak...  ...                         Fantastic!\n",
              "\n",
              "[5 rows x 7 columns]"
            ]
          },
          "metadata": {
            "tags": []
          },
          "execution_count": 3
        }
      ]
    },
    {
      "cell_type": "code",
      "metadata": {
        "colab": {
          "base_uri": "https://localhost:8080/",
          "height": 527
        },
        "id": "OEosPDHLibIL",
        "outputId": "c740fe4b-987a-45df-fb85-5904c5de0620"
      },
      "source": [
        "train_df.head()"
      ],
      "execution_count": 4,
      "outputs": [
        {
          "output_type": "execute_result",
          "data": {
            "text/html": [
              "<div>\n",
              "<style scoped>\n",
              "    .dataframe tbody tr th:only-of-type {\n",
              "        vertical-align: middle;\n",
              "    }\n",
              "\n",
              "    .dataframe tbody tr th {\n",
              "        vertical-align: top;\n",
              "    }\n",
              "\n",
              "    .dataframe thead th {\n",
              "        text-align: right;\n",
              "    }\n",
              "</style>\n",
              "<table border=\"1\" class=\"dataframe\">\n",
              "  <thead>\n",
              "    <tr style=\"text-align: right;\">\n",
              "      <th></th>\n",
              "      <th>name</th>\n",
              "      <th>brand</th>\n",
              "      <th>categories</th>\n",
              "      <th>primaryCategories</th>\n",
              "      <th>reviews.date</th>\n",
              "      <th>reviews.text</th>\n",
              "      <th>reviews.title</th>\n",
              "      <th>sentiment</th>\n",
              "    </tr>\n",
              "  </thead>\n",
              "  <tbody>\n",
              "    <tr>\n",
              "      <th>0</th>\n",
              "      <td>All-New Fire HD 8 Tablet, 8\" HD Display, Wi-Fi...</td>\n",
              "      <td>Amazon</td>\n",
              "      <td>Electronics,iPad &amp; Tablets,All Tablets,Fire Ta...</td>\n",
              "      <td>Electronics</td>\n",
              "      <td>2016-12-26T00:00:00.000Z</td>\n",
              "      <td>Purchased on Black FridayPros - Great Price (e...</td>\n",
              "      <td>Powerful tablet</td>\n",
              "      <td>Positive</td>\n",
              "    </tr>\n",
              "    <tr>\n",
              "      <th>1</th>\n",
              "      <td>Amazon - Echo Plus w/ Built-In Hub - Silver</td>\n",
              "      <td>Amazon</td>\n",
              "      <td>Amazon Echo,Smart Home,Networking,Home &amp; Tools...</td>\n",
              "      <td>Electronics,Hardware</td>\n",
              "      <td>2018-01-17T00:00:00.000Z</td>\n",
              "      <td>I purchased two Amazon in Echo Plus and two do...</td>\n",
              "      <td>Amazon Echo Plus AWESOME</td>\n",
              "      <td>Positive</td>\n",
              "    </tr>\n",
              "    <tr>\n",
              "      <th>2</th>\n",
              "      <td>Amazon Echo Show Alexa-enabled Bluetooth Speak...</td>\n",
              "      <td>Amazon</td>\n",
              "      <td>Amazon Echo,Virtual Assistant Speakers,Electro...</td>\n",
              "      <td>Electronics,Hardware</td>\n",
              "      <td>2017-12-20T00:00:00.000Z</td>\n",
              "      <td>Just an average Alexa option. Does show a few ...</td>\n",
              "      <td>Average</td>\n",
              "      <td>Neutral</td>\n",
              "    </tr>\n",
              "    <tr>\n",
              "      <th>3</th>\n",
              "      <td>Fire HD 10 Tablet, 10.1 HD Display, Wi-Fi, 16 ...</td>\n",
              "      <td>Amazon</td>\n",
              "      <td>eBook Readers,Fire Tablets,Electronics Feature...</td>\n",
              "      <td>Office Supplies,Electronics</td>\n",
              "      <td>2017-08-04T00:00:00.000Z</td>\n",
              "      <td>very good product. Exactly what I wanted, and ...</td>\n",
              "      <td>Greattttttt</td>\n",
              "      <td>Positive</td>\n",
              "    </tr>\n",
              "    <tr>\n",
              "      <th>4</th>\n",
              "      <td>Brand New Amazon Kindle Fire 16gb 7\" Ips Displ...</td>\n",
              "      <td>Amazon</td>\n",
              "      <td>Computers/Tablets &amp; Networking,Tablets &amp; eBook...</td>\n",
              "      <td>Electronics</td>\n",
              "      <td>2017-01-23T00:00:00.000Z</td>\n",
              "      <td>This is the 3rd one I've purchased. I've bough...</td>\n",
              "      <td>Very durable!</td>\n",
              "      <td>Positive</td>\n",
              "    </tr>\n",
              "  </tbody>\n",
              "</table>\n",
              "</div>"
            ],
            "text/plain": [
              "                                                name  ... sentiment\n",
              "0  All-New Fire HD 8 Tablet, 8\" HD Display, Wi-Fi...  ...  Positive\n",
              "1        Amazon - Echo Plus w/ Built-In Hub - Silver  ...  Positive\n",
              "2  Amazon Echo Show Alexa-enabled Bluetooth Speak...  ...   Neutral\n",
              "3  Fire HD 10 Tablet, 10.1 HD Display, Wi-Fi, 16 ...  ...  Positive\n",
              "4  Brand New Amazon Kindle Fire 16gb 7\" Ips Displ...  ...  Positive\n",
              "\n",
              "[5 rows x 8 columns]"
            ]
          },
          "metadata": {
            "tags": []
          },
          "execution_count": 4
        }
      ]
    },
    {
      "cell_type": "code",
      "metadata": {
        "colab": {
          "base_uri": "https://localhost:8080/",
          "height": 578
        },
        "id": "xi448L1DihTn",
        "outputId": "b63db35f-2eef-4c97-b80a-ef843f3bb498"
      },
      "source": [
        "validate_df.head()"
      ],
      "execution_count": 5,
      "outputs": [
        {
          "output_type": "execute_result",
          "data": {
            "text/html": [
              "<div>\n",
              "<style scoped>\n",
              "    .dataframe tbody tr th:only-of-type {\n",
              "        vertical-align: middle;\n",
              "    }\n",
              "\n",
              "    .dataframe tbody tr th {\n",
              "        vertical-align: top;\n",
              "    }\n",
              "\n",
              "    .dataframe thead th {\n",
              "        text-align: right;\n",
              "    }\n",
              "</style>\n",
              "<table border=\"1\" class=\"dataframe\">\n",
              "  <thead>\n",
              "    <tr style=\"text-align: right;\">\n",
              "      <th></th>\n",
              "      <th>name</th>\n",
              "      <th>brand</th>\n",
              "      <th>categories</th>\n",
              "      <th>primaryCategories</th>\n",
              "      <th>reviews.date</th>\n",
              "      <th>reviews.text</th>\n",
              "      <th>reviews.title</th>\n",
              "      <th>sentiment</th>\n",
              "    </tr>\n",
              "  </thead>\n",
              "  <tbody>\n",
              "    <tr>\n",
              "      <th>0</th>\n",
              "      <td>Fire Tablet, 7 Display, Wi-Fi, 16 GB - Include...</td>\n",
              "      <td>Amazon</td>\n",
              "      <td>Fire Tablets,Computers/Tablets &amp; Networking,Ta...</td>\n",
              "      <td>Electronics</td>\n",
              "      <td>2016-05-23T00:00:00.000Z</td>\n",
              "      <td>Amazon kindle fire has a lot of free app and c...</td>\n",
              "      <td>very handy device</td>\n",
              "      <td>Positive</td>\n",
              "    </tr>\n",
              "    <tr>\n",
              "      <th>1</th>\n",
              "      <td>Amazon Echo Show Alexa-enabled Bluetooth Speak...</td>\n",
              "      <td>Amazon</td>\n",
              "      <td>Computers,Amazon Echo,Virtual Assistant Speake...</td>\n",
              "      <td>Electronics,Hardware</td>\n",
              "      <td>2018-01-02T00:00:00.000Z</td>\n",
              "      <td>The Echo Show is a great addition to the Amazo...</td>\n",
              "      <td>Another winner from Amazon</td>\n",
              "      <td>Positive</td>\n",
              "    </tr>\n",
              "    <tr>\n",
              "      <th>2</th>\n",
              "      <td>All-New Fire HD 8 Tablet, 8\" HD Display, Wi-Fi...</td>\n",
              "      <td>Amazon</td>\n",
              "      <td>Electronics,iPad &amp; Tablets,All Tablets,Fire Ta...</td>\n",
              "      <td>Electronics</td>\n",
              "      <td>2017-01-02T00:00:00.000Z</td>\n",
              "      <td>Great value from Best Buy. Bought at Christmas...</td>\n",
              "      <td>simple to use and reliable so far</td>\n",
              "      <td>Positive</td>\n",
              "    </tr>\n",
              "    <tr>\n",
              "      <th>3</th>\n",
              "      <td>Brand New Amazon Kindle Fire 16gb 7\" Ips Displ...</td>\n",
              "      <td>Amazon</td>\n",
              "      <td>Computers/Tablets &amp; Networking,Tablets &amp; eBook...</td>\n",
              "      <td>Electronics</td>\n",
              "      <td>2017-03-25T00:00:00.000Z</td>\n",
              "      <td>I use mine for email, Facebook ,games and to g...</td>\n",
              "      <td>Love it!!!</td>\n",
              "      <td>Positive</td>\n",
              "    </tr>\n",
              "    <tr>\n",
              "      <th>4</th>\n",
              "      <td>Amazon Echo Show Alexa-enabled Bluetooth Speak...</td>\n",
              "      <td>Amazon</td>\n",
              "      <td>Computers,Amazon Echo,Virtual Assistant Speake...</td>\n",
              "      <td>Electronics,Hardware</td>\n",
              "      <td>2017-11-15T00:00:00.000Z</td>\n",
              "      <td>This is a fantastic item &amp; the person I bought...</td>\n",
              "      <td>Fantastic!</td>\n",
              "      <td>Positive</td>\n",
              "    </tr>\n",
              "  </tbody>\n",
              "</table>\n",
              "</div>"
            ],
            "text/plain": [
              "                                                name  ... sentiment\n",
              "0  Fire Tablet, 7 Display, Wi-Fi, 16 GB - Include...  ...  Positive\n",
              "1  Amazon Echo Show Alexa-enabled Bluetooth Speak...  ...  Positive\n",
              "2  All-New Fire HD 8 Tablet, 8\" HD Display, Wi-Fi...  ...  Positive\n",
              "3  Brand New Amazon Kindle Fire 16gb 7\" Ips Displ...  ...  Positive\n",
              "4  Amazon Echo Show Alexa-enabled Bluetooth Speak...  ...  Positive\n",
              "\n",
              "[5 rows x 8 columns]"
            ]
          },
          "metadata": {
            "tags": []
          },
          "execution_count": 5
        }
      ]
    },
    {
      "cell_type": "code",
      "metadata": {
        "colab": {
          "base_uri": "https://localhost:8080/"
        },
        "id": "0vni00LLio63",
        "outputId": "e90b0943-5745-4c61-bee1-030243b17106"
      },
      "source": [
        "test_df.shape"
      ],
      "execution_count": 6,
      "outputs": [
        {
          "output_type": "execute_result",
          "data": {
            "text/plain": [
              "(1000, 7)"
            ]
          },
          "metadata": {
            "tags": []
          },
          "execution_count": 6
        }
      ]
    },
    {
      "cell_type": "code",
      "metadata": {
        "colab": {
          "base_uri": "https://localhost:8080/"
        },
        "id": "YGeiP19DZaqj",
        "outputId": "cb3671a9-21f2-498f-c258-da3c3a01c50e"
      },
      "source": [
        "test_df.columns"
      ],
      "execution_count": 23,
      "outputs": [
        {
          "output_type": "execute_result",
          "data": {
            "text/plain": [
              "Index(['name', 'brand', 'categories', 'primaryCategories', 'reviews.date',\n",
              "       'reviews.text', 'reviews.title'],\n",
              "      dtype='object')"
            ]
          },
          "metadata": {
            "tags": []
          },
          "execution_count": 23
        }
      ]
    },
    {
      "cell_type": "code",
      "metadata": {
        "colab": {
          "base_uri": "https://localhost:8080/"
        },
        "id": "exque9DRZwvs",
        "outputId": "a7922e4c-9290-4fad-e081-b94c0963690d"
      },
      "source": [
        "test_df.drop"
      ],
      "execution_count": 26,
      "outputs": [
        {
          "output_type": "execute_result",
          "data": {
            "text/plain": [
              "<bound method DataFrame.drop of                                                   name  ...                             reviews.title\n",
              "0    Fire Tablet, 7 Display, Wi-Fi, 16 GB - Include...  ...                         very handy device\n",
              "1    Amazon Echo Show Alexa-enabled Bluetooth Speak...  ...                Another winner from Amazon\n",
              "2    All-New Fire HD 8 Tablet, 8\" HD Display, Wi-Fi...  ...         simple to use and reliable so far\n",
              "3    Brand New Amazon Kindle Fire 16gb 7\" Ips Displ...  ...                                Love it!!!\n",
              "4    Amazon Echo Show Alexa-enabled Bluetooth Speak...  ...                                Fantastic!\n",
              "..                                                 ...  ...                                       ...\n",
              "995  Amazon Echo Show Alexa-enabled Bluetooth Speak...  ...                                   Awesome\n",
              "996  Amazon Tap - Alexa-Enabled Portable Bluetooth ...  ...                     Good Bluetooth device\n",
              "997  Fire HD 8 Tablet with Alexa, 8\" HD Display, 32...  ...                     good product for kids\n",
              "998  All-New Fire HD 8 Tablet, 8\" HD Display, Wi-Fi...  ...  Was misled on price match. Item is okay.\n",
              "999  Fire Tablet, 7 Display, Wi-Fi, 16 GB - Include...  ...                                Great gift\n",
              "\n",
              "[1000 rows x 7 columns]>"
            ]
          },
          "metadata": {
            "tags": []
          },
          "execution_count": 26
        }
      ]
    },
    {
      "cell_type": "code",
      "metadata": {
        "colab": {
          "base_uri": "https://localhost:8080/"
        },
        "id": "TSnIigGHit3T",
        "outputId": "c74f9671-e8c7-4c56-b2e8-8cf432d112fd"
      },
      "source": [
        "train_df.shape"
      ],
      "execution_count": 7,
      "outputs": [
        {
          "output_type": "execute_result",
          "data": {
            "text/plain": [
              "(4000, 8)"
            ]
          },
          "metadata": {
            "tags": []
          },
          "execution_count": 7
        }
      ]
    },
    {
      "cell_type": "code",
      "metadata": {
        "colab": {
          "base_uri": "https://localhost:8080/"
        },
        "id": "e-MWN7Y5Zglp",
        "outputId": "d8390d3e-fd58-49bd-9e54-9bde8abf8ada"
      },
      "source": [
        "train_df.columns"
      ],
      "execution_count": 24,
      "outputs": [
        {
          "output_type": "execute_result",
          "data": {
            "text/plain": [
              "Index(['name', 'brand', 'categories', 'primaryCategories', 'reviews.date',\n",
              "       'reviews.text', 'reviews.title', 'sentiment'],\n",
              "      dtype='object')"
            ]
          },
          "metadata": {
            "tags": []
          },
          "execution_count": 24
        }
      ]
    },
    {
      "cell_type": "code",
      "metadata": {
        "colab": {
          "base_uri": "https://localhost:8080/"
        },
        "id": "oPAJH55SiwaQ",
        "outputId": "b7dc947d-b3a0-4be0-d9ff-197b3c40684e"
      },
      "source": [
        "validate_df.shape"
      ],
      "execution_count": 8,
      "outputs": [
        {
          "output_type": "execute_result",
          "data": {
            "text/plain": [
              "(1000, 8)"
            ]
          },
          "metadata": {
            "tags": []
          },
          "execution_count": 8
        }
      ]
    },
    {
      "cell_type": "code",
      "metadata": {
        "colab": {
          "base_uri": "https://localhost:8080/"
        },
        "id": "Wnrk2JBAZoKA",
        "outputId": "b5a58d00-6fb9-47f7-a4db-0359c3a2b494"
      },
      "source": [
        "validate_df.columns"
      ],
      "execution_count": 25,
      "outputs": [
        {
          "output_type": "execute_result",
          "data": {
            "text/plain": [
              "Index(['name', 'brand', 'categories', 'primaryCategories', 'reviews.date',\n",
              "       'reviews.text', 'reviews.title', 'sentiment'],\n",
              "      dtype='object')"
            ]
          },
          "metadata": {
            "tags": []
          },
          "execution_count": 25
        }
      ]
    },
    {
      "cell_type": "code",
      "metadata": {
        "id": "WPjGQgDEizEj"
      },
      "source": [
        "merge_df = pd.concat([train_df,validate_df])"
      ],
      "execution_count": 9,
      "outputs": []
    },
    {
      "cell_type": "code",
      "metadata": {
        "colab": {
          "base_uri": "https://localhost:8080/",
          "height": 527
        },
        "id": "WKXxH_isje_G",
        "outputId": "0702b449-f508-4840-df42-3a6301acb51e"
      },
      "source": [
        "merge_df.head()"
      ],
      "execution_count": 10,
      "outputs": [
        {
          "output_type": "execute_result",
          "data": {
            "text/html": [
              "<div>\n",
              "<style scoped>\n",
              "    .dataframe tbody tr th:only-of-type {\n",
              "        vertical-align: middle;\n",
              "    }\n",
              "\n",
              "    .dataframe tbody tr th {\n",
              "        vertical-align: top;\n",
              "    }\n",
              "\n",
              "    .dataframe thead th {\n",
              "        text-align: right;\n",
              "    }\n",
              "</style>\n",
              "<table border=\"1\" class=\"dataframe\">\n",
              "  <thead>\n",
              "    <tr style=\"text-align: right;\">\n",
              "      <th></th>\n",
              "      <th>name</th>\n",
              "      <th>brand</th>\n",
              "      <th>categories</th>\n",
              "      <th>primaryCategories</th>\n",
              "      <th>reviews.date</th>\n",
              "      <th>reviews.text</th>\n",
              "      <th>reviews.title</th>\n",
              "      <th>sentiment</th>\n",
              "    </tr>\n",
              "  </thead>\n",
              "  <tbody>\n",
              "    <tr>\n",
              "      <th>0</th>\n",
              "      <td>All-New Fire HD 8 Tablet, 8\" HD Display, Wi-Fi...</td>\n",
              "      <td>Amazon</td>\n",
              "      <td>Electronics,iPad &amp; Tablets,All Tablets,Fire Ta...</td>\n",
              "      <td>Electronics</td>\n",
              "      <td>2016-12-26T00:00:00.000Z</td>\n",
              "      <td>Purchased on Black FridayPros - Great Price (e...</td>\n",
              "      <td>Powerful tablet</td>\n",
              "      <td>Positive</td>\n",
              "    </tr>\n",
              "    <tr>\n",
              "      <th>1</th>\n",
              "      <td>Amazon - Echo Plus w/ Built-In Hub - Silver</td>\n",
              "      <td>Amazon</td>\n",
              "      <td>Amazon Echo,Smart Home,Networking,Home &amp; Tools...</td>\n",
              "      <td>Electronics,Hardware</td>\n",
              "      <td>2018-01-17T00:00:00.000Z</td>\n",
              "      <td>I purchased two Amazon in Echo Plus and two do...</td>\n",
              "      <td>Amazon Echo Plus AWESOME</td>\n",
              "      <td>Positive</td>\n",
              "    </tr>\n",
              "    <tr>\n",
              "      <th>2</th>\n",
              "      <td>Amazon Echo Show Alexa-enabled Bluetooth Speak...</td>\n",
              "      <td>Amazon</td>\n",
              "      <td>Amazon Echo,Virtual Assistant Speakers,Electro...</td>\n",
              "      <td>Electronics,Hardware</td>\n",
              "      <td>2017-12-20T00:00:00.000Z</td>\n",
              "      <td>Just an average Alexa option. Does show a few ...</td>\n",
              "      <td>Average</td>\n",
              "      <td>Neutral</td>\n",
              "    </tr>\n",
              "    <tr>\n",
              "      <th>3</th>\n",
              "      <td>Fire HD 10 Tablet, 10.1 HD Display, Wi-Fi, 16 ...</td>\n",
              "      <td>Amazon</td>\n",
              "      <td>eBook Readers,Fire Tablets,Electronics Feature...</td>\n",
              "      <td>Office Supplies,Electronics</td>\n",
              "      <td>2017-08-04T00:00:00.000Z</td>\n",
              "      <td>very good product. Exactly what I wanted, and ...</td>\n",
              "      <td>Greattttttt</td>\n",
              "      <td>Positive</td>\n",
              "    </tr>\n",
              "    <tr>\n",
              "      <th>4</th>\n",
              "      <td>Brand New Amazon Kindle Fire 16gb 7\" Ips Displ...</td>\n",
              "      <td>Amazon</td>\n",
              "      <td>Computers/Tablets &amp; Networking,Tablets &amp; eBook...</td>\n",
              "      <td>Electronics</td>\n",
              "      <td>2017-01-23T00:00:00.000Z</td>\n",
              "      <td>This is the 3rd one I've purchased. I've bough...</td>\n",
              "      <td>Very durable!</td>\n",
              "      <td>Positive</td>\n",
              "    </tr>\n",
              "  </tbody>\n",
              "</table>\n",
              "</div>"
            ],
            "text/plain": [
              "                                                name  ... sentiment\n",
              "0  All-New Fire HD 8 Tablet, 8\" HD Display, Wi-Fi...  ...  Positive\n",
              "1        Amazon - Echo Plus w/ Built-In Hub - Silver  ...  Positive\n",
              "2  Amazon Echo Show Alexa-enabled Bluetooth Speak...  ...   Neutral\n",
              "3  Fire HD 10 Tablet, 10.1 HD Display, Wi-Fi, 16 ...  ...  Positive\n",
              "4  Brand New Amazon Kindle Fire 16gb 7\" Ips Displ...  ...  Positive\n",
              "\n",
              "[5 rows x 8 columns]"
            ]
          },
          "metadata": {
            "tags": []
          },
          "execution_count": 10
        }
      ]
    },
    {
      "cell_type": "code",
      "metadata": {
        "colab": {
          "base_uri": "https://localhost:8080/"
        },
        "id": "qEaxX_DajiYI",
        "outputId": "5068dca2-cadf-4a37-e5dd-d5820eb1f418"
      },
      "source": [
        "merge_df.shape"
      ],
      "execution_count": 11,
      "outputs": [
        {
          "output_type": "execute_result",
          "data": {
            "text/plain": [
              "(5000, 8)"
            ]
          },
          "metadata": {
            "tags": []
          },
          "execution_count": 11
        }
      ]
    },
    {
      "cell_type": "code",
      "metadata": {
        "colab": {
          "base_uri": "https://localhost:8080/"
        },
        "id": "fC8rKxlcjn02",
        "outputId": "2847f3ea-cbfb-4d6a-f8ef-5265ecbb92e8"
      },
      "source": [
        "merge_df['primaryCategories'].value_counts()"
      ],
      "execution_count": 12,
      "outputs": [
        {
          "output_type": "execute_result",
          "data": {
            "text/plain": [
              "Electronics                    3276\n",
              "Electronics,Hardware           1435\n",
              "Office Supplies,Electronics     265\n",
              "Electronics,Media                24\n",
              "Name: primaryCategories, dtype: int64"
            ]
          },
          "metadata": {
            "tags": []
          },
          "execution_count": 12
        }
      ]
    },
    {
      "cell_type": "code",
      "metadata": {
        "colab": {
          "base_uri": "https://localhost:8080/"
        },
        "id": "bkeROHIHj4sX",
        "outputId": "7d574c92-b16c-415d-9f1b-8de3aeb658c0"
      },
      "source": [
        "merge_df['brand'].value_counts()"
      ],
      "execution_count": 13,
      "outputs": [
        {
          "output_type": "execute_result",
          "data": {
            "text/plain": [
              "Amazon    5000\n",
              "Name: brand, dtype: int64"
            ]
          },
          "metadata": {
            "tags": []
          },
          "execution_count": 13
        }
      ]
    },
    {
      "cell_type": "code",
      "metadata": {
        "colab": {
          "base_uri": "https://localhost:8080/"
        },
        "id": "Zu52mqXtkqEC",
        "outputId": "ac62e542-09dc-4dea-e568-cbccc85b15c7"
      },
      "source": [
        "merge_df.columns"
      ],
      "execution_count": 14,
      "outputs": [
        {
          "output_type": "execute_result",
          "data": {
            "text/plain": [
              "Index(['name', 'brand', 'categories', 'primaryCategories', 'reviews.date',\n",
              "       'reviews.text', 'reviews.title', 'sentiment'],\n",
              "      dtype='object')"
            ]
          },
          "metadata": {
            "tags": []
          },
          "execution_count": 14
        }
      ]
    },
    {
      "cell_type": "code",
      "metadata": {
        "colab": {
          "base_uri": "https://localhost:8080/"
        },
        "id": "d8g8SjY7lGY8",
        "outputId": "1016f98f-dc99-4329-fb1d-fedc0df84358"
      },
      "source": [
        "merge_df['categories'].value_counts()"
      ],
      "execution_count": 15,
      "outputs": [
        {
          "output_type": "execute_result",
          "data": {
            "text/plain": [
              "Electronics,iPad & Tablets,All Tablets,Fire Tablets,Tablets,Computers & Tablets                                                                                                                                                                                                                                                                                                                                                                                                                                                                                                                                                                                                                                                                                                                                           797\n",
              "Computers,Amazon Echo,Virtual Assistant Speakers,Audio & Video Components,Electronics Features,Computer Accessories,Home & Tools,See more Amazon Echo Show Smart Assistant - White,Smart Home Automation,Electronics,TVs Entertainment,Speakers,Smart Hub & Kits,Digital Device 3,Consumer Electronics,Wireless Speakers,Home Improvement,Amazon Home,Amazon,Computer Speakers,Voice-Enabled Smart Assistants                                                                                                                                                                                                                                                                                                                                                                                                             650\n",
              "Amazon Echo,Smart Home,Networking,Home & Tools,Home Improvement,Smart Home Automation,Voice Assistants,Amazon Home,Amazon,Smart Hub & Kits,Digital Device 3                                                                                                                                                                                                                                                                                                                                                                                                                                                                                                                                                                                                                                                               590\n",
              "Computers,Fire Tablets,Electronics Features,Computer Accessories,Tablets,Top Rated,Amazon Tablets,Electronics,Kids' Tablets,iPad & Tablets,Cases & Bags,Electronics, Tech Toys, Movies, Music,Computers & Tablets                                                                                                                                                                                                                                                                                                                                                                                                                                                                                                                                                                                                         561\n",
              "Computers/Tablets & Networking,Tablets & eBook Readers,Computers & Tablets,Tablets,All Tablets                                                                                                                                                                                                                                                                                                                                                                                                                                                                                                                                                                                                                                                                                                                            467\n",
              "Fire Tablets,Computers/Tablets & Networking,Tablets,All Tablets,Amazon Tablets,Frys,Computers & Tablets,Tablets & eBook Readers                                                                                                                                                                                                                                                                                                                                                                                                                                                                                                                                                                                                                                                                                           371\n",
              "Fire Tablets,Tablets,All Tablets,Amazon Tablets,Computers & Tablets                                                                                                                                                                                                                                                                                                                                                                                                                                                                                                                                                                                                                                                                                                                                                       287\n",
              "Amazon Echo,Home Theater & Audio,MP3 MP4 Player Accessories,Electronics,Portable Audio,Compact Radios Stereos,Smart Hubs & Wireless Routers,Featured Brands,Smart Home & Connected Living,Home Security,Kindle Store,Electronic Components,Home Automation,Mobile Bluetooth Speakers,Home, Garage & Office,Amazon Tap,Home,Mobile Speakers,TVs & Electronics,Portable Bluetooth Speakers,Bluetooth & Wireless Speakers,Electronics Features,Frys,Speakers,Mobile,Digital Device 3,Smart Home,Home Improvement,Electronics, Tech Toys, Movies, Music,Smart Home & Home Automation Devices,Smart Hubs,MP3 Player Accessories,Home Safety & Security,Voice Assistants,Amazon Home,Alarms & Sensors,Portable Audio & Electronics,Amazon Devices,Audio,Bluetooth Speakers,MP3 Accessories,All Bluetooth & Wireless Speakers    225\n",
              "Amazon Echo,Virtual Assistant Speakers,Electronics Features,Home & Tools,Smart Home Automation,TVs Entertainment,Speakers,Smart Hub & Kits,Digital Device 3,Wireless Speakers,Smart Home,Home Improvement,Voice Assistants,Amazon Home,Amazon                                                                                                                                                                                                                                                                                                                                                                                                                                                                                                                                                                             195\n",
              "Office,eBook Readers,Electronics Features,Walmart for Business,Tablets,Electronics,Amazon Ereaders,Office Electronics,iPad & Tablets,Kindle E-readers,All Tablets,Amazon Book Reader,Computers & Tablets                                                                                                                                                                                                                                                                                                                                                                                                                                                                                                                                                                                                                  159\n",
              "eBook Readers,Fire Tablets,Electronics Features,Tablets,Amazon Tablets,College Ipads & Tablets,Electronics,Electronics Deals,College Electronics,Featured Brands,All Tablets,Computers & Tablets,Back To College,Amazon Devices,Tablets & E-Readers                                                                                                                                                                                                                                                                                                                                                                                                                                                                                                                                                                       106\n",
              "Tablets,Fire Tablets,Electronics,iPad & Tablets,Android Tablets,Computers & Tablets,All Tablets                                                                                                                                                                                                                                                                                                                                                                                                                                                                                                                                                                                                                                                                                                                           101\n",
              "Computers,Electronics Features,Tablets,Electronics,iPad & Tablets,Kindle E-readers,iPad Accessories,Used:Tablets,E-Readers,E-Readers & Accessories,Computers/Tablets & Networking,Used:Computers Accessories,iPads Tablets,All Tablets,Tablets & E-readers,Computers & Tablets,Amazon,Tablets & eBook Readers                                                                                                                                                                                                                                                                                                                                                                                                                                                                                                              96\n",
              "eBook Readers,Electronics Features,Walmart for Business,Tablets,See more Amazon Kindle Voyage (Wi-Fi),Electronics,Office Electronics,iPad & Tablets,Kindle E-readers,E-Readers & Accessories,All Tablets,See more Amazon Kindle Voyage 4GB, Wi-Fi  3G (Unlocked...,Computers & Tablets                                                                                                                                                                                                                                                                                                                                                                                                                                                                                                                                     82\n",
              "Fire Tablets,Tablets,Computers/Tablets & Networking,Other Computers & Networking,Computers & Tablets,All Tablets                                                                                                                                                                                                                                                                                                                                                                                                                                                                                                                                                                                                                                                                                                           58\n",
              "Tablets,Fire Tablets,Computers & Tablets,All Tablets                                                                                                                                                                                                                                                                                                                                                                                                                                                                                                                                                                                                                                                                                                                                                                       53\n",
              "Fire Tablets,Tablets,All Tablets,Amazon Tablets                                                                                                                                                                                                                                                                                                                                                                                                                                                                                                                                                                                                                                                                                                                                                                            51\n",
              "Tablets,Fire Tablets,Electronics,Computers,Computer Components,Hard Drives & Storage,Computers & Tablets,All Tablets                                                                                                                                                                                                                                                                                                                                                                                                                                                                                                                                                                                                                                                                                                       40\n",
              "Kindle E-readers,Electronics Features,Computers & Tablets,E-Readers & Accessories,E-Readers,eBook Readers                                                                                                                                                                                                                                                                                                                                                                                                                                                                                                                                                                                                                                                                                                                  39\n",
              "eBook Readers,E-Readers & Accessories,Amazon Book Reader,Computers & Tablets,Amazon Ereaders,Kindle E-readers,E-Readers                                                                                                                                                                                                                                                                                                                                                                                                                                                                                                                                                                                                                                                                                                    24\n",
              "Computers & Tablets,E-Readers & Accessories,eBook Readers,Kindle E-readers                                                                                                                                                                                                                                                                                                                                                                                                                                                                                                                                                                                                                                                                                                                                                 22\n",
              "Computers & Accessories,Tablet & E-Reader Accessories,Amazon Devices & Accessories,Electronics,Power Adapters & Cables,Computers Features,Cell Phone Accessories,Cell Phone Batteries & Power,Digital Device Accessory,Tablet Accessories,Featured Brands,Kindle Fire (2nd Generation) Accessories,Kindle Store,Power Adapters Cables,Electrical,Home,Tablets & E-Readers,Chargers Adapters,Chargers & Adapters,Electronics Features,Fire Tablet Accessories,Amazon Book Reader Accessory,Cell Phones,Amazon Device Accessories,Home Improvement,Fire (5th Generation) Accessories,Amazon Devices,Cables & Chargers                                                                                                                                                                                                        22\n",
              "Amazon SMP,TV, Video & Home Audio,Electronics,Electronics Deals,TVs Entertainment,Digital Device 4,Tvs & Home Theater,Featured Brands,Video Devices & TV Tuners,Consumer Electronics,TV & Video,Internet & Media Streamers,Streaming Media Players,Fire TV,Streaming Devices,Amazon Devices,Amazon,See more Amazon Fire TV with Alexa Voice Remote Digital...                                                                                                                                                                                                                                                                                                                                                                                                                                                               4\n",
              "Name: categories, dtype: int64"
            ]
          },
          "metadata": {
            "tags": []
          },
          "execution_count": 15
        }
      ]
    },
    {
      "cell_type": "code",
      "metadata": {
        "colab": {
          "base_uri": "https://localhost:8080/"
        },
        "id": "MaWRCr72lQVM",
        "outputId": "622b1cd3-ffb1-43c4-dde2-28a882314d93"
      },
      "source": [
        "merge_df.info()"
      ],
      "execution_count": 16,
      "outputs": [
        {
          "output_type": "stream",
          "text": [
            "<class 'pandas.core.frame.DataFrame'>\n",
            "Int64Index: 5000 entries, 0 to 999\n",
            "Data columns (total 8 columns):\n",
            " #   Column             Non-Null Count  Dtype \n",
            "---  ------             --------------  ----- \n",
            " 0   name               5000 non-null   object\n",
            " 1   brand              5000 non-null   object\n",
            " 2   categories         5000 non-null   object\n",
            " 3   primaryCategories  5000 non-null   object\n",
            " 4   reviews.date       5000 non-null   object\n",
            " 5   reviews.text       5000 non-null   object\n",
            " 6   reviews.title      4987 non-null   object\n",
            " 7   sentiment          5000 non-null   object\n",
            "dtypes: object(8)\n",
            "memory usage: 351.6+ KB\n"
          ],
          "name": "stdout"
        }
      ]
    },
    {
      "cell_type": "code",
      "metadata": {
        "colab": {
          "base_uri": "https://localhost:8080/"
        },
        "id": "JDK1PxynlXsM",
        "outputId": "6a139182-c74d-49fd-9ff7-77579d12ffb8"
      },
      "source": [
        "merge_df.isna().sum()"
      ],
      "execution_count": 17,
      "outputs": [
        {
          "output_type": "execute_result",
          "data": {
            "text/plain": [
              "name                  0\n",
              "brand                 0\n",
              "categories            0\n",
              "primaryCategories     0\n",
              "reviews.date          0\n",
              "reviews.text          0\n",
              "reviews.title        13\n",
              "sentiment             0\n",
              "dtype: int64"
            ]
          },
          "metadata": {
            "tags": []
          },
          "execution_count": 17
        }
      ]
    },
    {
      "cell_type": "code",
      "metadata": {
        "colab": {
          "base_uri": "https://localhost:8080/"
        },
        "id": "6alv3oOtlxVA",
        "outputId": "6028e9cf-a5cd-443f-ad9b-5d1799ed8ff3"
      },
      "source": [
        "merge_df['reviews.title'].value_counts()"
      ],
      "execution_count": 18,
      "outputs": [
        {
          "output_type": "execute_result",
          "data": {
            "text/plain": [
              "Great tablet                      122\n",
              "Great product                      78\n",
              "Love it                            68\n",
              "Great                              63\n",
              "Awesome                            51\n",
              "                                 ... \n",
              "Great gift for my Grandmother!      1\n",
              "Amazing Alex Device                 1\n",
              "LIKE IT                             1\n",
              "Good beginner tablet                1\n",
              "Love show                           1\n",
              "Name: reviews.title, Length: 3124, dtype: int64"
            ]
          },
          "metadata": {
            "tags": []
          },
          "execution_count": 18
        }
      ]
    },
    {
      "cell_type": "code",
      "metadata": {
        "colab": {
          "base_uri": "https://localhost:8080/"
        },
        "id": "FppYJtlcnHID",
        "outputId": "26194adf-bd13-4db1-9b32-03363339e10e"
      },
      "source": [
        "merge_df['sentiment'].value_counts()"
      ],
      "execution_count": 19,
      "outputs": [
        {
          "output_type": "execute_result",
          "data": {
            "text/plain": [
              "Positive    4686\n",
              "Neutral      197\n",
              "Negative     117\n",
              "Name: sentiment, dtype: int64"
            ]
          },
          "metadata": {
            "tags": []
          },
          "execution_count": 19
        }
      ]
    },
    {
      "cell_type": "code",
      "metadata": {
        "id": "JauARXbknXSQ"
      },
      "source": [
        "clean_df = merge_df.dropna()"
      ],
      "execution_count": 20,
      "outputs": []
    },
    {
      "cell_type": "code",
      "metadata": {
        "colab": {
          "base_uri": "https://localhost:8080/"
        },
        "id": "OyqSghVxnmrE",
        "outputId": "1398f9fe-05be-4bf7-c557-d4b6ca3e4186"
      },
      "source": [
        "clean_df.shape"
      ],
      "execution_count": 21,
      "outputs": [
        {
          "output_type": "execute_result",
          "data": {
            "text/plain": [
              "(4987, 8)"
            ]
          },
          "metadata": {
            "tags": []
          },
          "execution_count": 21
        }
      ]
    },
    {
      "cell_type": "code",
      "metadata": {
        "colab": {
          "base_uri": "https://localhost:8080/"
        },
        "id": "gV5TS--onqZp",
        "outputId": "dc106fab-c14d-4616-a968-3fe17e6b16ac"
      },
      "source": [
        "clean_df['sentiment'].value_counts()"
      ],
      "execution_count": 22,
      "outputs": [
        {
          "output_type": "execute_result",
          "data": {
            "text/plain": [
              "Positive    4673\n",
              "Neutral      197\n",
              "Negative     117\n",
              "Name: sentiment, dtype: int64"
            ]
          },
          "metadata": {
            "tags": []
          },
          "execution_count": 22
        }
      ]
    },
    {
      "cell_type": "code",
      "metadata": {
        "colab": {
          "base_uri": "https://localhost:8080/",
          "height": 521
        },
        "id": "ad3VVfxqoSiI",
        "outputId": "314751de-ac01-455e-a043-7fcdedfefa66"
      },
      "source": [
        "clean_df.head(10).T"
      ],
      "execution_count": 28,
      "outputs": [
        {
          "output_type": "execute_result",
          "data": {
            "text/html": [
              "<div>\n",
              "<style scoped>\n",
              "    .dataframe tbody tr th:only-of-type {\n",
              "        vertical-align: middle;\n",
              "    }\n",
              "\n",
              "    .dataframe tbody tr th {\n",
              "        vertical-align: top;\n",
              "    }\n",
              "\n",
              "    .dataframe thead th {\n",
              "        text-align: right;\n",
              "    }\n",
              "</style>\n",
              "<table border=\"1\" class=\"dataframe\">\n",
              "  <thead>\n",
              "    <tr style=\"text-align: right;\">\n",
              "      <th></th>\n",
              "      <th>0</th>\n",
              "      <th>1</th>\n",
              "      <th>2</th>\n",
              "      <th>3</th>\n",
              "      <th>4</th>\n",
              "      <th>5</th>\n",
              "      <th>6</th>\n",
              "      <th>7</th>\n",
              "      <th>8</th>\n",
              "      <th>9</th>\n",
              "    </tr>\n",
              "  </thead>\n",
              "  <tbody>\n",
              "    <tr>\n",
              "      <th>name</th>\n",
              "      <td>All-New Fire HD 8 Tablet, 8\" HD Display, Wi-Fi...</td>\n",
              "      <td>Amazon - Echo Plus w/ Built-In Hub - Silver</td>\n",
              "      <td>Amazon Echo Show Alexa-enabled Bluetooth Speak...</td>\n",
              "      <td>Fire HD 10 Tablet, 10.1 HD Display, Wi-Fi, 16 ...</td>\n",
              "      <td>Brand New Amazon Kindle Fire 16gb 7\" Ips Displ...</td>\n",
              "      <td>Kindle E-reader - White, 6 Glare-Free Touchscr...</td>\n",
              "      <td>Brand New Amazon Kindle Fire 16gb 7\" Ips Displ...</td>\n",
              "      <td>Brand New Amazon Kindle Fire 16gb 7\" Ips Displ...</td>\n",
              "      <td>All-New Fire HD 8 Tablet, 8\" HD Display, Wi-Fi...</td>\n",
              "      <td>All-New Fire HD 8 Tablet, 8\" HD Display, Wi-Fi...</td>\n",
              "    </tr>\n",
              "    <tr>\n",
              "      <th>brand</th>\n",
              "      <td>Amazon</td>\n",
              "      <td>Amazon</td>\n",
              "      <td>Amazon</td>\n",
              "      <td>Amazon</td>\n",
              "      <td>Amazon</td>\n",
              "      <td>Amazon</td>\n",
              "      <td>Amazon</td>\n",
              "      <td>Amazon</td>\n",
              "      <td>Amazon</td>\n",
              "      <td>Amazon</td>\n",
              "    </tr>\n",
              "    <tr>\n",
              "      <th>categories</th>\n",
              "      <td>Electronics,iPad &amp; Tablets,All Tablets,Fire Ta...</td>\n",
              "      <td>Amazon Echo,Smart Home,Networking,Home &amp; Tools...</td>\n",
              "      <td>Amazon Echo,Virtual Assistant Speakers,Electro...</td>\n",
              "      <td>eBook Readers,Fire Tablets,Electronics Feature...</td>\n",
              "      <td>Computers/Tablets &amp; Networking,Tablets &amp; eBook...</td>\n",
              "      <td>Office,eBook Readers,Electronics Features,Walm...</td>\n",
              "      <td>Computers/Tablets &amp; Networking,Tablets &amp; eBook...</td>\n",
              "      <td>Computers/Tablets &amp; Networking,Tablets &amp; eBook...</td>\n",
              "      <td>Electronics,iPad &amp; Tablets,All Tablets,Fire Ta...</td>\n",
              "      <td>Electronics,iPad &amp; Tablets,All Tablets,Fire Ta...</td>\n",
              "    </tr>\n",
              "    <tr>\n",
              "      <th>primaryCategories</th>\n",
              "      <td>Electronics</td>\n",
              "      <td>Electronics,Hardware</td>\n",
              "      <td>Electronics,Hardware</td>\n",
              "      <td>Office Supplies,Electronics</td>\n",
              "      <td>Electronics</td>\n",
              "      <td>Office Supplies,Electronics</td>\n",
              "      <td>Electronics</td>\n",
              "      <td>Electronics</td>\n",
              "      <td>Electronics</td>\n",
              "      <td>Electronics</td>\n",
              "    </tr>\n",
              "    <tr>\n",
              "      <th>reviews.date</th>\n",
              "      <td>2016-12-26T00:00:00.000Z</td>\n",
              "      <td>2018-01-17T00:00:00.000Z</td>\n",
              "      <td>2017-12-20T00:00:00.000Z</td>\n",
              "      <td>2017-08-04T00:00:00.000Z</td>\n",
              "      <td>2017-01-23T00:00:00.000Z</td>\n",
              "      <td>2016-12-23T00:00:00.000Z</td>\n",
              "      <td>2017-05-31T00:00:00.000Z</td>\n",
              "      <td>2016-06-05T00:00:00.000Z</td>\n",
              "      <td>2016-11-23T00:00:00.000Z</td>\n",
              "      <td>2017-05-18T00:00:00.000Z</td>\n",
              "    </tr>\n",
              "    <tr>\n",
              "      <th>reviews.text</th>\n",
              "      <td>Purchased on Black FridayPros - Great Price (e...</td>\n",
              "      <td>I purchased two Amazon in Echo Plus and two do...</td>\n",
              "      <td>Just an average Alexa option. Does show a few ...</td>\n",
              "      <td>very good product. Exactly what I wanted, and ...</td>\n",
              "      <td>This is the 3rd one I've purchased. I've bough...</td>\n",
              "      <td>This is a great product. Light weight. I wish ...</td>\n",
              "      <td>My 7-year old daughter saved up to by this. He...</td>\n",
              "      <td>Purchased this for my son. Has room to upgrade...</td>\n",
              "      <td>Bought this for my mom and it was just what sh...</td>\n",
              "      <td>was cheap, can not run chrome stuff, returned ...</td>\n",
              "    </tr>\n",
              "    <tr>\n",
              "      <th>reviews.title</th>\n",
              "      <td>Powerful tablet</td>\n",
              "      <td>Amazon Echo Plus AWESOME</td>\n",
              "      <td>Average</td>\n",
              "      <td>Greattttttt</td>\n",
              "      <td>Very durable!</td>\n",
              "      <td>You will love it</td>\n",
              "      <td>OK For Entry Level Tablet</td>\n",
              "      <td>Great for kids or smaller needs</td>\n",
              "      <td>Great tablet</td>\n",
              "      <td>was cheap, can not run chrome stuff, returned</td>\n",
              "    </tr>\n",
              "    <tr>\n",
              "      <th>sentiment</th>\n",
              "      <td>Positive</td>\n",
              "      <td>Positive</td>\n",
              "      <td>Neutral</td>\n",
              "      <td>Positive</td>\n",
              "      <td>Positive</td>\n",
              "      <td>Positive</td>\n",
              "      <td>Neutral</td>\n",
              "      <td>Positive</td>\n",
              "      <td>Positive</td>\n",
              "      <td>Negative</td>\n",
              "    </tr>\n",
              "  </tbody>\n",
              "</table>\n",
              "</div>"
            ],
            "text/plain": [
              "                                                                   0  ...                                                  9\n",
              "name               All-New Fire HD 8 Tablet, 8\" HD Display, Wi-Fi...  ...  All-New Fire HD 8 Tablet, 8\" HD Display, Wi-Fi...\n",
              "brand                                                         Amazon  ...                                             Amazon\n",
              "categories         Electronics,iPad & Tablets,All Tablets,Fire Ta...  ...  Electronics,iPad & Tablets,All Tablets,Fire Ta...\n",
              "primaryCategories                                        Electronics  ...                                        Electronics\n",
              "reviews.date                                2016-12-26T00:00:00.000Z  ...                           2017-05-18T00:00:00.000Z\n",
              "reviews.text       Purchased on Black FridayPros - Great Price (e...  ...  was cheap, can not run chrome stuff, returned ...\n",
              "reviews.title                                        Powerful tablet  ...      was cheap, can not run chrome stuff, returned\n",
              "sentiment                                                   Positive  ...                                           Negative\n",
              "\n",
              "[8 rows x 10 columns]"
            ]
          },
          "metadata": {
            "tags": []
          },
          "execution_count": 28
        }
      ]
    },
    {
      "cell_type": "code",
      "metadata": {
        "id": "2Za1lwfUdSjN"
      },
      "source": [
        ""
      ],
      "execution_count": null,
      "outputs": []
    }
  ]
}